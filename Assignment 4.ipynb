{
 "cells": [
  {
   "cell_type": "markdown",
   "id": "439ed943",
   "metadata": {},
   "source": [
    "# Assignment 4"
   ]
  },
  {
   "cell_type": "markdown",
   "id": "20e507d7",
   "metadata": {},
   "source": [
    "### 1. What exactly is [] ?\n",
    "* [] this indicates empty list that contains no items"
   ]
  },
  {
   "cell_type": "markdown",
   "id": "48d74f3e",
   "metadata": {},
   "source": [
    "### 2. In a list of values stored in a variable called spam, how would you assign the value 'hello' as the third value? (Assume [2, 4, 6, 8, 10] are in spam.) \n",
    "* spam[2] = 'hello'(the third value in a list is at index 2 because the first index is 0)"
   ]
  },
  {
   "cell_type": "markdown",
   "id": "7859365d",
   "metadata": {},
   "source": [
    "### Let's pretend the spam includes the list ['a','b','c','d'] for the next three queries."
   ]
  },
  {
   "cell_type": "markdown",
   "id": "a67e3a16",
   "metadata": {},
   "source": [
    "### 3. What is the value of spam[int(int('3'*2) / 11)]?\n",
    "* '3' * 2 is the string '33', which is passed to int() before being divided by 11. This eventually evaluates to 3.\n",
    "* thus, spam[int(int('3'*2) / 11)] will be spam[3] which is 'd'."
   ]
  },
  {
   "cell_type": "markdown",
   "id": "b509f1fe",
   "metadata": {},
   "source": [
    "### 4. What is the value of spam[-1]?\n",
    "* spam[-1] is 'd'.(Negative indexes count from the end.)"
   ]
  },
  {
   "cell_type": "markdown",
   "id": "0d2cd4aa",
   "metadata": {},
   "source": [
    "### 5. What is the value of spam[:2]?\n",
    "* ['a', 'b']"
   ]
  },
  {
   "cell_type": "markdown",
   "id": "5a2866f2",
   "metadata": {},
   "source": [
    "### Let's pretend bacon has the list [3.14,'cat',11,'cat',True] for the next three questions."
   ]
  },
  {
   "cell_type": "markdown",
   "id": "2bfb104e",
   "metadata": {},
   "source": [
    "### 6. What is the value of bacon.index('cat')?\n",
    "* the index value is 1"
   ]
  },
  {
   "cell_type": "markdown",
   "id": "faf4d276",
   "metadata": {},
   "source": [
    "### 7. How does bacon.append(99) change the look of the list value in bacon?\n",
    "* [3.14, 'cat', 11, 'cat', True, 99]"
   ]
  },
  {
   "cell_type": "markdown",
   "id": "54f0ea0b",
   "metadata": {},
   "source": [
    "### 8. How does bacon.remove('cat') change the look of the list in bacon?\n",
    "* [3.14, 11, 'cat', True] (it have removed the first 'cat' item from the list starting from index 0)"
   ]
  },
  {
   "cell_type": "markdown",
   "id": "f62f3463",
   "metadata": {},
   "source": [
    "### 9. What are the list concatenation and list replication operators?\n",
    "* The operator for list concatenation is +.\n",
    "* the operator for replication is *."
   ]
  },
  {
   "cell_type": "markdown",
   "id": "9894ddd6",
   "metadata": {},
   "source": [
    "### 10. What is difference between the list methods append() and insert()?\n",
    "* While append() will add values only to the end of a list, insert() can add them anywhere in the list."
   ]
  },
  {
   "cell_type": "markdown",
   "id": "b23ed1df",
   "metadata": {},
   "source": [
    "### 11. What are the two methods for removing items from a list?\n",
    "* The del statement and the remove() list method are two ways to remove values from a list."
   ]
  },
  {
   "cell_type": "markdown",
   "id": "d65bd132",
   "metadata": {},
   "source": [
    "### 12. Describe how list values and string values are identical.\n",
    "* Both lists and strings can be passed to len(), have indexes and slices, can be used in for loops, can be concatenated or replicated, and can be used with the in and not in operators."
   ]
  },
  {
   "cell_type": "markdown",
   "id": "157e34b8",
   "metadata": {},
   "source": [
    "### 13. What's the difference between tuples and lists ?\n",
    "* Lists are mutable; they can have values added, removed, or changed.\n",
    "* lists are written using square brackets, [ and ].\n",
    "* Tuples are immutable, they cannot be changed at all.\n",
    "* tuples are written using parentheses, ( and )."
   ]
  },
  {
   "cell_type": "markdown",
   "id": "d9afb277",
   "metadata": {},
   "source": [
    "### 14. How do you type a tuple value that only contains the integer 42?\n",
    "* (42,) (The trailing comma is mandatory while writing single tuple value )"
   ]
  },
  {
   "cell_type": "markdown",
   "id": "132da448",
   "metadata": {},
   "source": [
    "### 15. How do you get a list value's tuple form? How do you get a tuple value's list form?\n",
    "* The tuple() function for changing list value's to tuple.\n",
    "* the list() function for changing tuple value's to list."
   ]
  },
  {
   "cell_type": "markdown",
   "id": "905896ba",
   "metadata": {},
   "source": [
    "### 16. Variables that \"contain\" list values are not necessarily lists themselves. Instead, what do they contain?\n",
    "* They contain references to list values."
   ]
  },
  {
   "cell_type": "markdown",
   "id": "5e5e1374",
   "metadata": {},
   "source": [
    "### 17. How do you distinguish between copy.copy() and copy.deepcopy()?\n",
    "* The copy.copy() function will do a shallow copy of a list.\n",
    "* The copy.deepcopy() function will do a deep copy of a list.\n",
    "* The copy.deepcopy() function will duplicate any lists inside the list."
   ]
  }
 ],
 "metadata": {
  "kernelspec": {
   "display_name": "Python 3 (ipykernel)",
   "language": "python",
   "name": "python3"
  },
  "language_info": {
   "codemirror_mode": {
    "name": "ipython",
    "version": 3
   },
   "file_extension": ".py",
   "mimetype": "text/x-python",
   "name": "python",
   "nbconvert_exporter": "python",
   "pygments_lexer": "ipython3",
   "version": "3.8.10"
  }
 },
 "nbformat": 4,
 "nbformat_minor": 5
}
